{
 "cells": [
  {
   "cell_type": "code",
   "execution_count": 30,
   "metadata": {},
   "outputs": [],
   "source": [
    "import os\n",
    "import pickle\n",
    "\n",
    "import numpy as np\n",
    "\n",
    "import itertools as it\n",
    "import random, math"
   ]
  },
  {
   "cell_type": "code",
   "execution_count": 41,
   "metadata": {},
   "outputs": [],
   "source": [
    "# os.chdir('./archives')"
   ]
  },
  {
   "cell_type": "code",
   "execution_count": 33,
   "metadata": {},
   "outputs": [],
   "source": [
    "dir_data = os.getcwd()\n",
    "filename = 'mts_archive/WESAD/x_2_0.pkl'\n",
    "\n",
    "with open(os.path.join(dir_data, filename), 'rb') as f:\n",
    "  WESAD = pickle.load(f)"
   ]
  },
  {
   "cell_type": "code",
   "execution_count": 40,
   "metadata": {},
   "outputs": [
    {
     "data": {
      "text/plain": [
       "(71, 600)"
      ]
     },
     "execution_count": 40,
     "metadata": {},
     "output_type": "execute_result"
    }
   ],
   "source": [
    "np.array(WESAD.data).shape"
   ]
  },
  {
   "cell_type": "code",
   "execution_count": 35,
   "metadata": {},
   "outputs": [
    {
     "data": {
      "text/plain": [
       "array([[[0.92553653],\n",
       "        [0.93771946],\n",
       "        [0.92555738],\n",
       "        ...,\n",
       "        [0.64482103],\n",
       "        [0.65148308],\n",
       "        [0.65166415]],\n",
       "\n",
       "       [[0.94231506],\n",
       "        [0.92666323],\n",
       "        [0.93303821],\n",
       "        ...,\n",
       "        [0.63365029],\n",
       "        [0.63583153],\n",
       "        [0.63330016]],\n",
       "\n",
       "       [[0.65242092],\n",
       "        [0.6526435 ],\n",
       "        [0.65211288],\n",
       "        ...,\n",
       "        [0.63659018],\n",
       "        [0.66059996],\n",
       "        [0.65199729]],\n",
       "\n",
       "       ...,\n",
       "\n",
       "       [[0.96100088],\n",
       "        [0.96133326],\n",
       "        [0.96044748],\n",
       "        ...,\n",
       "        [0.94283551],\n",
       "        [0.94684111],\n",
       "        [0.9409468 ]],\n",
       "\n",
       "       [[0.94752273],\n",
       "        [0.9446055 ],\n",
       "        [0.94826863],\n",
       "        ...,\n",
       "        [0.94974868],\n",
       "        [0.94687354],\n",
       "        [0.9455933 ]],\n",
       "\n",
       "       [[0.94610834],\n",
       "        [0.94619241],\n",
       "        [0.94684008],\n",
       "        ...,\n",
       "        [0.94678419],\n",
       "        [0.94852562],\n",
       "        [0.94847725]]])"
      ]
     },
     "execution_count": 35,
     "metadata": {},
     "output_type": "execute_result"
    }
   ],
   "source": [
    "np.expand_dims(np.array(WESAD.data), 2)"
   ]
  },
  {
   "cell_type": "code",
   "execution_count": 36,
   "metadata": {},
   "outputs": [],
   "source": [
    "dir_data = os.getcwd()\n",
    "filename = 'mts_archive/KEmoWork/x_2_0.pkl'\n",
    "\n",
    "with open(os.path.join(dir_data, filename), 'rb') as f:\n",
    "  KEMOWORK = pickle.load(f)"
   ]
  },
  {
   "cell_type": "code",
   "execution_count": 39,
   "metadata": {},
   "outputs": [
    {
     "data": {
      "text/plain": [
       "(149, 40)"
      ]
     },
     "execution_count": 39,
     "metadata": {},
     "output_type": "execute_result"
    }
   ],
   "source": [
    "np.array(KEMOWORK.data).shape"
   ]
  },
  {
   "cell_type": "code",
   "execution_count": 38,
   "metadata": {},
   "outputs": [
    {
     "data": {
      "text/plain": [
       "array([[[0.13844583],\n",
       "        [0.13844583],\n",
       "        [0.15473357],\n",
       "        ...,\n",
       "        [0.08143877],\n",
       "        [0.10587035],\n",
       "        [0.11401425]],\n",
       "\n",
       "       [[0.11401425],\n",
       "        [0.11401425],\n",
       "        [0.08958261],\n",
       "        ...,\n",
       "        [0.09772645],\n",
       "        [0.08143877],\n",
       "        [0.08143877]],\n",
       "\n",
       "       [[0.08143877],\n",
       "        [0.10587035],\n",
       "        [0.09772645],\n",
       "        ...,\n",
       "        [0.10587035],\n",
       "        [0.11401425],\n",
       "        [0.10587035]],\n",
       "\n",
       "       ...,\n",
       "\n",
       "       [[0.94299287],\n",
       "        [0.95113678],\n",
       "        [0.95113678],\n",
       "        ...,\n",
       "        [0.95113678],\n",
       "        [0.95928062],\n",
       "        [0.95928062]],\n",
       "\n",
       "       [[0.95928062],\n",
       "        [1.        ],\n",
       "        [0.94299287],\n",
       "        ...,\n",
       "        [0.95113678],\n",
       "        [0.94299287],\n",
       "        [0.95113678]],\n",
       "\n",
       "       [[0.94299287],\n",
       "        [0.96742458],\n",
       "        [0.95928062],\n",
       "        ...,\n",
       "        [0.97556842],\n",
       "        [0.96742458],\n",
       "        [0.95928062]]])"
      ]
     },
     "execution_count": 38,
     "metadata": {},
     "output_type": "execute_result"
    }
   ],
   "source": [
    "np.expand_dims(np.array(KEMOWORK.data), 2)"
   ]
  },
  {
   "cell_type": "code",
   "execution_count": 12,
   "metadata": {},
   "outputs": [],
   "source": [
    "dir_data = os.getcwd()\n",
    "filename = 'KEmoWork/S3/S3.pkl'\n",
    "\n",
    "with open(os.path.join(dir_data, filename), 'rb') as f:\n",
    "  KEMOWORK = pickle.load(f)"
   ]
  },
  {
   "cell_type": "code",
   "execution_count": 13,
   "metadata": {},
   "outputs": [
    {
     "data": {
      "text/plain": [
       "array([[ 0.],\n",
       "       [ 0.],\n",
       "       [ 0.],\n",
       "       ...,\n",
       "       [20.],\n",
       "       [20.],\n",
       "       [20.]])"
      ]
     },
     "execution_count": 13,
     "metadata": {},
     "output_type": "execute_result"
    }
   ],
   "source": [
    "KEMOWORK['label']['STRESS']"
   ]
  },
  {
   "cell_type": "code",
   "execution_count": 16,
   "metadata": {},
   "outputs": [
    {
     "data": {
      "text/plain": [
       "11.696133333333334"
      ]
     },
     "execution_count": 16,
     "metadata": {},
     "output_type": "execute_result"
    }
   ],
   "source": [
    "np.mean(KEMOWORK['label']['STRESS'])"
   ]
  },
  {
   "cell_type": "code",
   "execution_count": 18,
   "metadata": {},
   "outputs": [
    {
     "name": "stdout",
     "output_type": "stream",
     "text": [
      "0.0\n",
      "0.0\n",
      "0.0\n",
      "0.0\n",
      "0.0\n",
      "0.0\n",
      "0.0\n",
      "0.0\n",
      "0.0\n",
      "1.0\n",
      "2.0\n",
      "2.0\n",
      "2.0\n",
      "2.0\n",
      "2.0\n",
      "2.0\n",
      "2.0\n",
      "1.0\n",
      "1.0\n",
      "1.0\n",
      "1.0\n",
      "1.0\n",
      "1.0\n",
      "1.0\n",
      "1.0\n",
      "1.0\n",
      "0.0\n",
      "0.0\n",
      "20.0\n",
      "20.0\n",
      "20.0\n",
      "20.0\n",
      "20.0\n",
      "20.0\n",
      "20.0\n",
      "20.0\n",
      "20.0\n",
      "20.0\n",
      "20.0\n",
      "20.0\n",
      "20.0\n",
      "20.0\n",
      "20.0\n",
      "20.0\n",
      "20.0\n",
      "20.0\n",
      "20.0\n",
      "20.0\n",
      "20.0\n",
      "20.0\n",
      "5.0\n",
      "10.0\n",
      "13.0\n",
      "15.0\n",
      "15.0\n",
      "5.0\n",
      "5.5\n",
      "10.0\n",
      "10.0\n",
      "10.0\n",
      "15.0\n",
      "20.0\n",
      "20.0\n",
      "20.0\n",
      "20.0\n",
      "20.0\n",
      "20.0\n",
      "20.0\n",
      "20.0\n",
      "20.0\n",
      "20.0\n",
      "20.0\n",
      "20.0\n",
      "20.0\n",
      "20.0\n"
     ]
    }
   ],
   "source": [
    "for i in range(0, 7460, 100):\n",
    "    print(np.mean(KEMOWORK['label']['STRESS'][i:i+4]))"
   ]
  },
  {
   "cell_type": "code",
   "execution_count": 14,
   "metadata": {},
   "outputs": [
    {
     "data": {
      "text/plain": [
       "7500"
      ]
     },
     "execution_count": 14,
     "metadata": {},
     "output_type": "execute_result"
    }
   ],
   "source": [
    "len(KEMOWORK['label']['STRESS'])"
   ]
  },
  {
   "cell_type": "code",
   "execution_count": 4,
   "metadata": {},
   "outputs": [],
   "source": [
    "dir_data = os.getcwd()\n",
    "filename = 'WESAD/S7/S7.pkl'\n",
    "\n",
    "with open(os.path.join(dir_data, filename), 'rb') as f:\n",
    "  WESAD = pickle.load(f, encoding='latin1')"
   ]
  },
  {
   "cell_type": "code",
   "execution_count": 4,
   "metadata": {},
   "outputs": [
    {
     "data": {
      "text/plain": [
       "(207776, 3)"
      ]
     },
     "execution_count": 4,
     "metadata": {},
     "output_type": "execute_result"
    }
   ],
   "source": [
    "WESAD['signal']['wrist']['ACC'].shape"
   ]
  },
  {
   "cell_type": "code",
   "execution_count": 53,
   "metadata": {},
   "outputs": [
    {
     "data": {
      "text/plain": [
       "array([0, 0, 0, ..., 0, 0, 0], dtype=int32)"
      ]
     },
     "execution_count": 53,
     "metadata": {},
     "output_type": "execute_result"
    }
   ],
   "source": [
    "np.array(WESAD['label'])"
   ]
  },
  {
   "cell_type": "code",
   "execution_count": 7,
   "metadata": {},
   "outputs": [],
   "source": [
    "dir_data = os.getcwd()\n",
    "filename = 'mts_archive/KEmoWork/x_2_0.pkl'\n",
    "\n",
    "with open(os.path.join(dir_data, filename), 'rb') as f:\n",
    "  KEMOWORK = pickle.load(f, encoding='latin1')"
   ]
  },
  {
   "cell_type": "code",
   "execution_count": 9,
   "metadata": {},
   "outputs": [
    {
     "data": {
      "text/plain": [
       "(743, 40)"
      ]
     },
     "execution_count": 9,
     "metadata": {},
     "output_type": "execute_result"
    }
   ],
   "source": [
    "np.array(KEMOWORK.data).shape"
   ]
  },
  {
   "cell_type": "code",
   "execution_count": 11,
   "metadata": {},
   "outputs": [],
   "source": [
    "filename = 'mts_archive/KEmoWork/y_2.pkl'\n",
    "\n",
    "with open(os.path.join(dir_data, filename), 'rb') as f:\n",
    "  LABEL = pickle.load(f, encoding='latin1')"
   ]
  },
  {
   "cell_type": "code",
   "execution_count": 14,
   "metadata": {},
   "outputs": [
    {
     "data": {
      "text/plain": [
       "743"
      ]
     },
     "execution_count": 14,
     "metadata": {},
     "output_type": "execute_result"
    }
   ],
   "source": [
    "len(LABEL)"
   ]
  },
  {
   "cell_type": "code",
   "execution_count": 15,
   "metadata": {},
   "outputs": [
    {
     "ename": "AxisError",
     "evalue": "axis 2 is out of bounds for array of dimension 2",
     "output_type": "error",
     "traceback": [
      "\u001b[0;31m---------------------------------------------------------------------------\u001b[0m",
      "\u001b[0;31mAxisError\u001b[0m                                 Traceback (most recent call last)",
      "\u001b[1;32m/home/iclab/yunjo-server/dl-4-tsc/GeneralizedModel/playground.ipynb 셀 15\u001b[0m line \u001b[0;36m1\n\u001b[0;32m----> <a href='vscode-notebook-cell://ssh-remote%2Bserver2/home/iclab/yunjo-server/dl-4-tsc/GeneralizedModel/playground.ipynb#X20sdnNjb2RlLXJlbW90ZQ%3D%3D?line=0'>1</a>\u001b[0m np\u001b[39m.\u001b[39;49mexpand_dims(np\u001b[39m.\u001b[39;49marray(KEMOWORK\u001b[39m.\u001b[39;49mdata[\u001b[39m0\u001b[39;49m]),\u001b[39m2\u001b[39;49m)\n",
      "File \u001b[0;32m<__array_function__ internals>:200\u001b[0m, in \u001b[0;36mexpand_dims\u001b[0;34m(*args, **kwargs)\u001b[0m\n",
      "File \u001b[0;32m~/miniconda3/envs/tf/lib/python3.9/site-packages/numpy/lib/shape_base.py:597\u001b[0m, in \u001b[0;36mexpand_dims\u001b[0;34m(a, axis)\u001b[0m\n\u001b[1;32m    594\u001b[0m     axis \u001b[39m=\u001b[39m (axis,)\n\u001b[1;32m    596\u001b[0m out_ndim \u001b[39m=\u001b[39m \u001b[39mlen\u001b[39m(axis) \u001b[39m+\u001b[39m a\u001b[39m.\u001b[39mndim\n\u001b[0;32m--> 597\u001b[0m axis \u001b[39m=\u001b[39m normalize_axis_tuple(axis, out_ndim)\n\u001b[1;32m    599\u001b[0m shape_it \u001b[39m=\u001b[39m \u001b[39miter\u001b[39m(a\u001b[39m.\u001b[39mshape)\n\u001b[1;32m    600\u001b[0m shape \u001b[39m=\u001b[39m [\u001b[39m1\u001b[39m \u001b[39mif\u001b[39;00m ax \u001b[39min\u001b[39;00m axis \u001b[39melse\u001b[39;00m \u001b[39mnext\u001b[39m(shape_it) \u001b[39mfor\u001b[39;00m ax \u001b[39min\u001b[39;00m \u001b[39mrange\u001b[39m(out_ndim)]\n",
      "File \u001b[0;32m~/miniconda3/envs/tf/lib/python3.9/site-packages/numpy/core/numeric.py:1398\u001b[0m, in \u001b[0;36mnormalize_axis_tuple\u001b[0;34m(axis, ndim, argname, allow_duplicate)\u001b[0m\n\u001b[1;32m   1396\u001b[0m         \u001b[39mpass\u001b[39;00m\n\u001b[1;32m   1397\u001b[0m \u001b[39m# Going via an iterator directly is slower than via list comprehension.\u001b[39;00m\n\u001b[0;32m-> 1398\u001b[0m axis \u001b[39m=\u001b[39m \u001b[39mtuple\u001b[39m([normalize_axis_index(ax, ndim, argname) \u001b[39mfor\u001b[39;00m ax \u001b[39min\u001b[39;00m axis])\n\u001b[1;32m   1399\u001b[0m \u001b[39mif\u001b[39;00m \u001b[39mnot\u001b[39;00m allow_duplicate \u001b[39mand\u001b[39;00m \u001b[39mlen\u001b[39m(\u001b[39mset\u001b[39m(axis)) \u001b[39m!=\u001b[39m \u001b[39mlen\u001b[39m(axis):\n\u001b[1;32m   1400\u001b[0m     \u001b[39mif\u001b[39;00m argname:\n",
      "File \u001b[0;32m~/miniconda3/envs/tf/lib/python3.9/site-packages/numpy/core/numeric.py:1398\u001b[0m, in \u001b[0;36m<listcomp>\u001b[0;34m(.0)\u001b[0m\n\u001b[1;32m   1396\u001b[0m         \u001b[39mpass\u001b[39;00m\n\u001b[1;32m   1397\u001b[0m \u001b[39m# Going via an iterator directly is slower than via list comprehension.\u001b[39;00m\n\u001b[0;32m-> 1398\u001b[0m axis \u001b[39m=\u001b[39m \u001b[39mtuple\u001b[39m([normalize_axis_index(ax, ndim, argname) \u001b[39mfor\u001b[39;00m ax \u001b[39min\u001b[39;00m axis])\n\u001b[1;32m   1399\u001b[0m \u001b[39mif\u001b[39;00m \u001b[39mnot\u001b[39;00m allow_duplicate \u001b[39mand\u001b[39;00m \u001b[39mlen\u001b[39m(\u001b[39mset\u001b[39m(axis)) \u001b[39m!=\u001b[39m \u001b[39mlen\u001b[39m(axis):\n\u001b[1;32m   1400\u001b[0m     \u001b[39mif\u001b[39;00m argname:\n",
      "\u001b[0;31mAxisError\u001b[0m: axis 2 is out of bounds for array of dimension 2"
     ]
    }
   ],
   "source": [
    "np.expand_dims(np.array(KEMOWORK.data[0]),2)"
   ]
  },
  {
   "cell_type": "code",
   "execution_count": 6,
   "metadata": {},
   "outputs": [],
   "source": [
    "filename = 'mts_archive/WESAD/y_4.pkl'\n",
    "\n",
    "with open(os.path.join(dir_data, filename), 'rb') as f:\n",
    "  LABEL = pickle.load(f, encoding='latin1')"
   ]
  },
  {
   "cell_type": "code",
   "execution_count": 7,
   "metadata": {},
   "outputs": [
    {
     "data": {
      "text/plain": [
       "[1.0,\n",
       " 1.0,\n",
       " 1.0,\n",
       " 1.0,\n",
       " 1.0,\n",
       " 1.0,\n",
       " 1.0,\n",
       " 1.0,\n",
       " 1.0,\n",
       " 1.0,\n",
       " 1.0,\n",
       " 1.0,\n",
       " 1.0,\n",
       " 1.0,\n",
       " 1.0,\n",
       " 1.0,\n",
       " 1.0,\n",
       " 1.0,\n",
       " 1.0,\n",
       " 1.0,\n",
       " 1.0,\n",
       " 1.0,\n",
       " 1.0,\n",
       " 1.0,\n",
       " 1.0,\n",
       " 1.0,\n",
       " 1.0,\n",
       " 1.0,\n",
       " 1.0,\n",
       " 1.0,\n",
       " 1.0,\n",
       " 1.0,\n",
       " 1.0,\n",
       " 1.0,\n",
       " 1.0,\n",
       " 1.0,\n",
       " 1.0,\n",
       " 1.0,\n",
       " 1.0,\n",
       " 3.0,\n",
       " 3.0,\n",
       " 3.0,\n",
       " 3.0,\n",
       " 3.0,\n",
       " 3.0,\n",
       " 3.0,\n",
       " 3.0,\n",
       " 3.0,\n",
       " 3.0,\n",
       " 3.0,\n",
       " 3.0,\n",
       " 2.0,\n",
       " 2.0,\n",
       " 2.0,\n",
       " 2.0,\n",
       " 2.0,\n",
       " 2.0,\n",
       " 2.0,\n",
       " 2.0,\n",
       " 2.0,\n",
       " 2.0,\n",
       " 2.0,\n",
       " 2.0,\n",
       " 2.0,\n",
       " 2.0,\n",
       " 2.0,\n",
       " 2.0,\n",
       " 2.0,\n",
       " 2.0,\n",
       " 2.0,\n",
       " 2.0,\n",
       " 2.0]"
      ]
     },
     "execution_count": 7,
     "metadata": {},
     "output_type": "execute_result"
    }
   ],
   "source": [
    "LABEL"
   ]
  },
  {
   "cell_type": "code",
   "execution_count": 118,
   "metadata": {},
   "outputs": [],
   "source": [
    "filename = 'mts_archive/WESAD/x_4_0.pkl'\n",
    "\n",
    "with open(os.path.join(dir_data, filename), 'rb') as f:\n",
    "  DATA = pickle.load(f, encoding='latin1')"
   ]
  },
  {
   "cell_type": "code",
   "execution_count": 119,
   "metadata": {},
   "outputs": [
    {
     "data": {
      "text/plain": [
       "72"
      ]
     },
     "execution_count": 119,
     "metadata": {},
     "output_type": "execute_result"
    }
   ],
   "source": [
    "len(DATA.data)"
   ]
  },
  {
   "cell_type": "code",
   "execution_count": 120,
   "metadata": {},
   "outputs": [
    {
     "data": {
      "text/plain": [
       "600"
      ]
     },
     "execution_count": 120,
     "metadata": {},
     "output_type": "execute_result"
    }
   ],
   "source": [
    "len(DATA.data[0])"
   ]
  },
  {
   "cell_type": "code",
   "execution_count": 4,
   "metadata": {},
   "outputs": [],
   "source": [
    "SUBJECTS_IDS = list(it.chain(range(2, 12), range(13, 18)))\n",
    "\n",
    "n = 15\n",
    "test_sets = [SUBJECTS_IDS[i::n] for i in range(n)]"
   ]
  },
  {
   "cell_type": "code",
   "execution_count": 5,
   "metadata": {},
   "outputs": [
    {
     "data": {
      "text/plain": [
       "[[2],\n",
       " [3],\n",
       " [4],\n",
       " [5],\n",
       " [6],\n",
       " [7],\n",
       " [8],\n",
       " [9],\n",
       " [10],\n",
       " [11],\n",
       " [13],\n",
       " [14],\n",
       " [15],\n",
       " [16],\n",
       " [17]]"
      ]
     },
     "execution_count": 5,
     "metadata": {},
     "output_type": "execute_result"
    }
   ],
   "source": [
    "test_sets"
   ]
  },
  {
   "cell_type": "code",
   "execution_count": 9,
   "metadata": {},
   "outputs": [],
   "source": [
    "result = []\n",
    "for test_set in test_sets:\n",
    "    rest = [x for x in SUBJECTS_IDS if x not in test_set]\n",
    "    val_set = random.sample(rest, math.ceil(len(rest) / 5))\n",
    "    train_set = [x for x in rest if x not in val_set]\n",
    "    result.append({\"train\": train_set, \"val\": val_set, \"test\": test_set})"
   ]
  },
  {
   "cell_type": "code",
   "execution_count": 10,
   "metadata": {},
   "outputs": [
    {
     "data": {
      "text/plain": [
       "[{'train': [3, 4, 5, 6, 7, 10, 11, 13, 14, 15, 16],\n",
       "  'val': [9, 8, 17],\n",
       "  'test': [2]},\n",
       " {'train': [2, 4, 6, 7, 9, 10, 11, 13, 14, 15, 17],\n",
       "  'val': [16, 8, 5],\n",
       "  'test': [3]},\n",
       " {'train': [2, 5, 6, 7, 8, 9, 10, 11, 15, 16, 17],\n",
       "  'val': [13, 14, 3],\n",
       "  'test': [4]},\n",
       " {'train': [2, 3, 4, 7, 9, 11, 13, 14, 15, 16, 17],\n",
       "  'val': [8, 6, 10],\n",
       "  'test': [5]},\n",
       " {'train': [2, 3, 4, 5, 7, 8, 10, 11, 13, 14, 15],\n",
       "  'val': [9, 16, 17],\n",
       "  'test': [6]},\n",
       " {'train': [2, 3, 4, 5, 6, 8, 9, 10, 14, 15, 16],\n",
       "  'val': [13, 17, 11],\n",
       "  'test': [7]},\n",
       " {'train': [2, 4, 5, 7, 9, 10, 11, 13, 14, 15, 17],\n",
       "  'val': [6, 3, 16],\n",
       "  'test': [8]},\n",
       " {'train': [2, 3, 4, 5, 8, 10, 11, 14, 15, 16, 17],\n",
       "  'val': [6, 7, 13],\n",
       "  'test': [9]},\n",
       " {'train': [3, 4, 5, 6, 7, 8, 9, 11, 13, 14, 16],\n",
       "  'val': [15, 17, 2],\n",
       "  'test': [10]},\n",
       " {'train': [2, 3, 4, 6, 7, 9, 10, 13, 14, 15, 16],\n",
       "  'val': [8, 17, 5],\n",
       "  'test': [11]},\n",
       " {'train': [2, 3, 4, 5, 6, 7, 9, 10, 14, 15, 17],\n",
       "  'val': [16, 11, 8],\n",
       "  'test': [13]},\n",
       " {'train': [2, 3, 5, 6, 7, 8, 10, 11, 13, 15, 17],\n",
       "  'val': [16, 4, 9],\n",
       "  'test': [14]},\n",
       " {'train': [3, 5, 6, 7, 8, 9, 10, 11, 13, 16, 17],\n",
       "  'val': [2, 14, 4],\n",
       "  'test': [15]},\n",
       " {'train': [3, 5, 6, 7, 8, 9, 10, 11, 13, 14, 15],\n",
       "  'val': [17, 4, 2],\n",
       "  'test': [16]},\n",
       " {'train': [2, 3, 4, 5, 7, 10, 11, 13, 14, 15, 16],\n",
       "  'val': [8, 9, 6],\n",
       "  'test': [17]}]"
      ]
     },
     "execution_count": 10,
     "metadata": {},
     "output_type": "execute_result"
    }
   ],
   "source": [
    "result"
   ]
  },
  {
   "cell_type": "code",
   "execution_count": null,
   "metadata": {},
   "outputs": [],
   "source": []
  }
 ],
 "metadata": {
  "kernelspec": {
   "display_name": "tf",
   "language": "python",
   "name": "python3"
  },
  "language_info": {
   "codemirror_mode": {
    "name": "ipython",
    "version": 3
   },
   "file_extension": ".py",
   "mimetype": "text/x-python",
   "name": "python",
   "nbconvert_exporter": "python",
   "pygments_lexer": "ipython3",
   "version": "3.9.17"
  },
  "orig_nbformat": 4
 },
 "nbformat": 4,
 "nbformat_minor": 2
}
