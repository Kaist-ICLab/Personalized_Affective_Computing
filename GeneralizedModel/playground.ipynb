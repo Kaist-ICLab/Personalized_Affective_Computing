{
 "cells": [
  {
   "cell_type": "code",
   "execution_count": 1,
   "metadata": {},
   "outputs": [],
   "source": [
    "import os\n",
    "import pickle\n",
    "\n",
    "import numpy as np\n",
    "\n",
    "import itertools as it\n",
    "import random, math"
   ]
  },
  {
   "cell_type": "code",
   "execution_count": 2,
   "metadata": {},
   "outputs": [
    {
     "data": {
      "text/plain": [
       "'/home/iclab/yunjo-server/dl-4-tsc/GeneralizedModel'"
      ]
     },
     "execution_count": 2,
     "metadata": {},
     "output_type": "execute_result"
    }
   ],
   "source": [
    "os.getcwd()"
   ]
  },
  {
   "cell_type": "code",
   "execution_count": 7,
   "metadata": {},
   "outputs": [
    {
     "name": "stdout",
     "output_type": "stream",
     "text": [
      "KEmoWork_19fold_00\n",
      "./results/KEmoWork_19fold_00/tune_00/cnnM/it_00/predictions.txt\n",
      "KEmoWork_19fold_01\n",
      "./results/KEmoWork_19fold_01/tune_00/cnnM/it_00/predictions.txt\n",
      "KEmoWork_19fold_02\n",
      "./results/KEmoWork_19fold_02/tune_00/cnnM/it_00/predictions.txt\n",
      "KEmoWork_19fold_03\n",
      "./results/KEmoWork_19fold_03/tune_00/cnnM/it_00/predictions.txt\n",
      "KEmoWork_19fold_04\n",
      "./results/KEmoWork_19fold_04/tune_00/cnnM/it_00/predictions.txt\n",
      "KEmoWork_19fold_05\n",
      "./results/KEmoWork_19fold_05/tune_00/cnnM/it_00/predictions.txt\n",
      "KEmoWork_19fold_06\n",
      "./results/KEmoWork_19fold_06/tune_00/cnnM/it_00/predictions.txt\n",
      "KEmoWork_19fold_07\n",
      "./results/KEmoWork_19fold_07/tune_00/cnnM/it_00/predictions.txt\n",
      "KEmoWork_19fold_08\n",
      "./results/KEmoWork_19fold_08/tune_00/cnnM/it_00/predictions.txt\n",
      "KEmoWork_19fold_09\n",
      "./results/KEmoWork_19fold_09/tune_00/cnnM/it_00/predictions.txt\n",
      "KEmoWork_19fold_10\n",
      "./results/KEmoWork_19fold_10/tune_00/cnnM/it_00/predictions.txt\n",
      "KEmoWork_19fold_11\n",
      "./results/KEmoWork_19fold_11/tune_00/cnnM/it_00/predictions.txt\n",
      "KEmoWork_19fold_12\n",
      "./results/KEmoWork_19fold_12/tune_00/cnnM/it_00/predictions.txt\n",
      "KEmoWork_19fold_13\n",
      "./results/KEmoWork_19fold_13/tune_00/cnnM/it_00/predictions.txt\n",
      "KEmoWork_19fold_14\n",
      "./results/KEmoWork_19fold_14/tune_00/cnnM/it_00/predictions.txt\n",
      "KEmoWork_19fold_15\n",
      "./results/KEmoWork_19fold_15/tune_00/cnnM/it_00/predictions.txt\n",
      "KEmoWork_19fold_16\n",
      "./results/KEmoWork_19fold_16/tune_00/cnnM/it_00/predictions.txt\n",
      "KEmoWork_19fold_17\n",
      "./results/KEmoWork_19fold_17/tune_00/cnnM/it_00/predictions.txt\n",
      "KEmoWork_19fold_18\n",
      "./results/KEmoWork_19fold_18/tune_00/cnnM/it_00/predictions.txt\n"
     ]
    }
   ],
   "source": [
    "y_num = []\n",
    "result_path = \"./results\"\n",
    "folder_names = os.listdir(result_path)\n",
    "folder_names.sort()\n",
    "\n",
    "for folder_name in folder_names:\n",
    "    if folder_name.startswith(\"KEmoWork_19fold_\"):\n",
    "        print(folder_name)\n",
    "        path = os.path.join(result_path, folder_name, \"tune_00/cnnM/it_00/predictions.txt\")\n",
    "        print(path)\n",
    "        if not os.path.exists(path):\n",
    "            continue\n",
    "        with open(path, 'r') as f:\n",
    "            lines = f.readlines()\n",
    "            y_num.append(len(lines[0].strip().split()))"
   ]
  },
  {
   "cell_type": "code",
   "execution_count": 8,
   "metadata": {},
   "outputs": [
    {
     "data": {
      "text/plain": [
       "[151,\n",
       " 149,\n",
       " 150,\n",
       " 140,\n",
       " 140,\n",
       " 145,\n",
       " 151,\n",
       " 147,\n",
       " 145,\n",
       " 144,\n",
       " 145,\n",
       " 144,\n",
       " 146,\n",
       " 142,\n",
       " 146,\n",
       " 146,\n",
       " 149,\n",
       " 147,\n",
       " 144]"
      ]
     },
     "execution_count": 8,
     "metadata": {},
     "output_type": "execute_result"
    }
   ],
   "source": [
    "y_num"
   ]
  },
  {
   "cell_type": "code",
   "execution_count": 7,
   "metadata": {},
   "outputs": [
    {
     "name": "stdout",
     "output_type": "stream",
     "text": [
      "0.952054794520548\n",
      "0.02064393939393938\n"
     ]
    }
   ],
   "source": [
    "from sklearn.metrics import precision_score, accuracy_score, recall_score, f1_score, roc_auc_score\n",
    "\n",
    "print(accuracy_score(y_true, y_pred))\n",
    "print(1-roc_auc_score(y_true, y_pred_probabilities, multi_class='ovo'))"
   ]
  },
  {
   "cell_type": "code",
   "execution_count": 33,
   "metadata": {},
   "outputs": [
    {
     "name": "stdout",
     "output_type": "stream",
     "text": [
      "0: 66\n",
      "1: 80\n"
     ]
    }
   ],
   "source": [
    "from collections import Counter\n",
    "\n",
    "count_dict = Counter(y_true)\n",
    "\n",
    "for key, value in count_dict.items():\n",
    "    print(f\"{key}: {value}\")"
   ]
  },
  {
   "cell_type": "code",
   "execution_count": 34,
   "metadata": {},
   "outputs": [
    {
     "name": "stdout",
     "output_type": "stream",
     "text": [
      "0: 63\n",
      "1: 83\n"
     ]
    }
   ],
   "source": [
    "from collections import Counter\n",
    "\n",
    "count_dict = Counter(y_pred)\n",
    "\n",
    "for key, value in count_dict.items():\n",
    "    print(f\"{key}: {value}\")"
   ]
  },
  {
   "cell_type": "code",
   "execution_count": 2,
   "metadata": {},
   "outputs": [],
   "source": [
    "os.chdir('./archives')"
   ]
  },
  {
   "cell_type": "code",
   "execution_count": 3,
   "metadata": {},
   "outputs": [],
   "source": [
    "dir_data = os.getcwd()\n",
    "filename = 'mts_archive/WESAD/x_13_0.pkl'\n",
    "\n",
    "with open(os.path.join(dir_data, filename), 'rb') as f:\n",
    "  WESAD = pickle.load(f)"
   ]
  },
  {
   "cell_type": "code",
   "execution_count": 4,
   "metadata": {},
   "outputs": [
    {
     "data": {
      "text/plain": [
       "(75, 600)"
      ]
     },
     "execution_count": 4,
     "metadata": {},
     "output_type": "execute_result"
    }
   ],
   "source": [
    "np.array(WESAD.data).shape"
   ]
  },
  {
   "cell_type": "code",
   "execution_count": 35,
   "metadata": {},
   "outputs": [
    {
     "data": {
      "text/plain": [
       "array([[[0.92553653],\n",
       "        [0.93771946],\n",
       "        [0.92555738],\n",
       "        ...,\n",
       "        [0.64482103],\n",
       "        [0.65148308],\n",
       "        [0.65166415]],\n",
       "\n",
       "       [[0.94231506],\n",
       "        [0.92666323],\n",
       "        [0.93303821],\n",
       "        ...,\n",
       "        [0.63365029],\n",
       "        [0.63583153],\n",
       "        [0.63330016]],\n",
       "\n",
       "       [[0.65242092],\n",
       "        [0.6526435 ],\n",
       "        [0.65211288],\n",
       "        ...,\n",
       "        [0.63659018],\n",
       "        [0.66059996],\n",
       "        [0.65199729]],\n",
       "\n",
       "       ...,\n",
       "\n",
       "       [[0.96100088],\n",
       "        [0.96133326],\n",
       "        [0.96044748],\n",
       "        ...,\n",
       "        [0.94283551],\n",
       "        [0.94684111],\n",
       "        [0.9409468 ]],\n",
       "\n",
       "       [[0.94752273],\n",
       "        [0.9446055 ],\n",
       "        [0.94826863],\n",
       "        ...,\n",
       "        [0.94974868],\n",
       "        [0.94687354],\n",
       "        [0.9455933 ]],\n",
       "\n",
       "       [[0.94610834],\n",
       "        [0.94619241],\n",
       "        [0.94684008],\n",
       "        ...,\n",
       "        [0.94678419],\n",
       "        [0.94852562],\n",
       "        [0.94847725]]])"
      ]
     },
     "execution_count": 35,
     "metadata": {},
     "output_type": "execute_result"
    }
   ],
   "source": [
    "np.expand_dims(np.array(WESAD.data), 2)"
   ]
  },
  {
   "cell_type": "code",
   "execution_count": 11,
   "metadata": {},
   "outputs": [],
   "source": [
    "dir_data = os.getcwd()\n",
    "filename = 'mts_archive/KEmoWork/x_13_6.pkl'\n",
    "\n",
    "with open(os.path.join(dir_data, filename), 'rb') as f:\n",
    "  KEMOWORK = pickle.load(f)"
   ]
  },
  {
   "cell_type": "code",
   "execution_count": 12,
   "metadata": {},
   "outputs": [
    {
     "data": {
      "text/plain": [
       "(147, 80)"
      ]
     },
     "execution_count": 12,
     "metadata": {},
     "output_type": "execute_result"
    }
   ],
   "source": [
    "np.array(KEMOWORK.data).shape"
   ]
  },
  {
   "cell_type": "code",
   "execution_count": 13,
   "metadata": {},
   "outputs": [
    {
     "data": {
      "text/plain": [
       "array([[[1.        ],\n",
       "        [0.59748764],\n",
       "        [0.55133131],\n",
       "        ...,\n",
       "        [0.19280024],\n",
       "        [0.28024578],\n",
       "        [0.31522349]],\n",
       "\n",
       "       [[0.54032127],\n",
       "        [0.55559775],\n",
       "        [0.54864086],\n",
       "        ...,\n",
       "        [0.3114977 ],\n",
       "        [0.30700574],\n",
       "        [0.31679844]],\n",
       "\n",
       "       [[0.31911304],\n",
       "        [0.29349961],\n",
       "        [0.3031903 ],\n",
       "        ...,\n",
       "        [0.28285678],\n",
       "        [0.26732053],\n",
       "        [0.26099371]],\n",
       "\n",
       "       ...,\n",
       "\n",
       "       [[0.36816413],\n",
       "        [0.37325343],\n",
       "        [0.38069944],\n",
       "        ...,\n",
       "        [0.3395144 ],\n",
       "        [0.38253748],\n",
       "        [0.38228017]],\n",
       "\n",
       "       [[0.38017446],\n",
       "        [0.40139321],\n",
       "        [0.3814486 ],\n",
       "        ...,\n",
       "        [0.30796329],\n",
       "        [0.38409078],\n",
       "        [0.3873089 ]],\n",
       "\n",
       "       [[0.33650119],\n",
       "        [0.37001065],\n",
       "        [0.3600567 ],\n",
       "        ...,\n",
       "        [0.35396212],\n",
       "        [0.37952165],\n",
       "        [0.30310696]]])"
      ]
     },
     "execution_count": 13,
     "metadata": {},
     "output_type": "execute_result"
    }
   ],
   "source": [
    "np.expand_dims(np.array(KEMOWORK.data), 2)"
   ]
  },
  {
   "cell_type": "code",
   "execution_count": 3,
   "metadata": {},
   "outputs": [],
   "source": [
    "dir_data = os.getcwd()\n",
    "filename = 'KEmoWork/S22/S22.pkl'\n",
    "\n",
    "with open(os.path.join(dir_data, filename), 'rb') as f:\n",
    "  KEMOWORK = pickle.load(f, encoding='latin1')"
   ]
  },
  {
   "cell_type": "code",
   "execution_count": 6,
   "metadata": {},
   "outputs": [
    {
     "data": {
      "text/plain": [
       "<memory at 0x7fba659eaa00>"
      ]
     },
     "execution_count": 6,
     "metadata": {},
     "output_type": "execute_result"
    }
   ],
   "source": [
    "KEMOWORK['signal']['EEG']"
   ]
  },
  {
   "cell_type": "code",
   "execution_count": 4,
   "metadata": {},
   "outputs": [
    {
     "data": {
      "text/plain": [
       "(2944, 1)"
      ]
     },
     "execution_count": 4,
     "metadata": {},
     "output_type": "execute_result"
    }
   ],
   "source": [
    "KEMOWORK['signal']['TEMP'].shape"
   ]
  },
  {
   "cell_type": "code",
   "execution_count": 13,
   "metadata": {},
   "outputs": [
    {
     "data": {
      "text/plain": [
       "array([[ 0.],\n",
       "       [ 0.],\n",
       "       [ 0.],\n",
       "       ...,\n",
       "       [20.],\n",
       "       [20.],\n",
       "       [20.]])"
      ]
     },
     "execution_count": 13,
     "metadata": {},
     "output_type": "execute_result"
    }
   ],
   "source": [
    "KEMOWORK['label']['STRESS']"
   ]
  },
  {
   "cell_type": "code",
   "execution_count": 16,
   "metadata": {},
   "outputs": [
    {
     "data": {
      "text/plain": [
       "11.696133333333334"
      ]
     },
     "execution_count": 16,
     "metadata": {},
     "output_type": "execute_result"
    }
   ],
   "source": [
    "np.mean(KEMOWORK['label']['STRESS'])"
   ]
  },
  {
   "cell_type": "code",
   "execution_count": 18,
   "metadata": {},
   "outputs": [
    {
     "name": "stdout",
     "output_type": "stream",
     "text": [
      "0.0\n",
      "0.0\n",
      "0.0\n",
      "0.0\n",
      "0.0\n",
      "0.0\n",
      "0.0\n",
      "0.0\n",
      "0.0\n",
      "1.0\n",
      "2.0\n",
      "2.0\n",
      "2.0\n",
      "2.0\n",
      "2.0\n",
      "2.0\n",
      "2.0\n",
      "1.0\n",
      "1.0\n",
      "1.0\n",
      "1.0\n",
      "1.0\n",
      "1.0\n",
      "1.0\n",
      "1.0\n",
      "1.0\n",
      "0.0\n",
      "0.0\n",
      "20.0\n",
      "20.0\n",
      "20.0\n",
      "20.0\n",
      "20.0\n",
      "20.0\n",
      "20.0\n",
      "20.0\n",
      "20.0\n",
      "20.0\n",
      "20.0\n",
      "20.0\n",
      "20.0\n",
      "20.0\n",
      "20.0\n",
      "20.0\n",
      "20.0\n",
      "20.0\n",
      "20.0\n",
      "20.0\n",
      "20.0\n",
      "20.0\n",
      "5.0\n",
      "10.0\n",
      "13.0\n",
      "15.0\n",
      "15.0\n",
      "5.0\n",
      "5.5\n",
      "10.0\n",
      "10.0\n",
      "10.0\n",
      "15.0\n",
      "20.0\n",
      "20.0\n",
      "20.0\n",
      "20.0\n",
      "20.0\n",
      "20.0\n",
      "20.0\n",
      "20.0\n",
      "20.0\n",
      "20.0\n",
      "20.0\n",
      "20.0\n",
      "20.0\n",
      "20.0\n"
     ]
    }
   ],
   "source": [
    "for i in range(0, 7460, 100):\n",
    "    print(np.mean(KEMOWORK['label']['STRESS'][i:i+4]))"
   ]
  },
  {
   "cell_type": "code",
   "execution_count": 14,
   "metadata": {},
   "outputs": [
    {
     "data": {
      "text/plain": [
       "7500"
      ]
     },
     "execution_count": 14,
     "metadata": {},
     "output_type": "execute_result"
    }
   ],
   "source": [
    "len(KEMOWORK['label']['STRESS'])"
   ]
  },
  {
   "cell_type": "code",
   "execution_count": 4,
   "metadata": {},
   "outputs": [],
   "source": [
    "dir_data = os.getcwd()\n",
    "filename = 'WESAD/S7/S7.pkl'\n",
    "\n",
    "with open(os.path.join(dir_data, filename), 'rb') as f:\n",
    "  WESAD = pickle.load(f, encoding='latin1')"
   ]
  },
  {
   "cell_type": "code",
   "execution_count": 4,
   "metadata": {},
   "outputs": [
    {
     "data": {
      "text/plain": [
       "(207776, 3)"
      ]
     },
     "execution_count": 4,
     "metadata": {},
     "output_type": "execute_result"
    }
   ],
   "source": [
    "WESAD['signal']['wrist']['ACC'].shape"
   ]
  },
  {
   "cell_type": "code",
   "execution_count": 53,
   "metadata": {},
   "outputs": [
    {
     "data": {
      "text/plain": [
       "array([0, 0, 0, ..., 0, 0, 0], dtype=int32)"
      ]
     },
     "execution_count": 53,
     "metadata": {},
     "output_type": "execute_result"
    }
   ],
   "source": [
    "np.array(WESAD['label'])"
   ]
  },
  {
   "cell_type": "code",
   "execution_count": 7,
   "metadata": {},
   "outputs": [],
   "source": [
    "dir_data = os.getcwd()\n",
    "filename = 'mts_archive/KEmoWork/x_2_0.pkl'\n",
    "\n",
    "with open(os.path.join(dir_data, filename), 'rb') as f:\n",
    "  KEMOWORK = pickle.load(f, encoding='latin1')"
   ]
  },
  {
   "cell_type": "code",
   "execution_count": 9,
   "metadata": {},
   "outputs": [
    {
     "data": {
      "text/plain": [
       "(743, 40)"
      ]
     },
     "execution_count": 9,
     "metadata": {},
     "output_type": "execute_result"
    }
   ],
   "source": [
    "np.array(KEMOWORK.data).shape"
   ]
  },
  {
   "cell_type": "code",
   "execution_count": 11,
   "metadata": {},
   "outputs": [],
   "source": [
    "filename = 'mts_archive/KEmoWork/y_2.pkl'\n",
    "\n",
    "with open(os.path.join(dir_data, filename), 'rb') as f:\n",
    "  LABEL = pickle.load(f, encoding='latin1')"
   ]
  },
  {
   "cell_type": "code",
   "execution_count": 14,
   "metadata": {},
   "outputs": [
    {
     "data": {
      "text/plain": [
       "743"
      ]
     },
     "execution_count": 14,
     "metadata": {},
     "output_type": "execute_result"
    }
   ],
   "source": [
    "len(LABEL)"
   ]
  },
  {
   "cell_type": "code",
   "execution_count": 15,
   "metadata": {},
   "outputs": [
    {
     "ename": "AxisError",
     "evalue": "axis 2 is out of bounds for array of dimension 2",
     "output_type": "error",
     "traceback": [
      "\u001b[0;31m---------------------------------------------------------------------------\u001b[0m",
      "\u001b[0;31mAxisError\u001b[0m                                 Traceback (most recent call last)",
      "\u001b[1;32m/home/iclab/yunjo-server/dl-4-tsc/GeneralizedModel/playground.ipynb 셀 15\u001b[0m line \u001b[0;36m1\n\u001b[0;32m----> <a href='vscode-notebook-cell://ssh-remote%2Bserver2/home/iclab/yunjo-server/dl-4-tsc/GeneralizedModel/playground.ipynb#X20sdnNjb2RlLXJlbW90ZQ%3D%3D?line=0'>1</a>\u001b[0m np\u001b[39m.\u001b[39;49mexpand_dims(np\u001b[39m.\u001b[39;49marray(KEMOWORK\u001b[39m.\u001b[39;49mdata[\u001b[39m0\u001b[39;49m]),\u001b[39m2\u001b[39;49m)\n",
      "File \u001b[0;32m<__array_function__ internals>:200\u001b[0m, in \u001b[0;36mexpand_dims\u001b[0;34m(*args, **kwargs)\u001b[0m\n",
      "File \u001b[0;32m~/miniconda3/envs/tf/lib/python3.9/site-packages/numpy/lib/shape_base.py:597\u001b[0m, in \u001b[0;36mexpand_dims\u001b[0;34m(a, axis)\u001b[0m\n\u001b[1;32m    594\u001b[0m     axis \u001b[39m=\u001b[39m (axis,)\n\u001b[1;32m    596\u001b[0m out_ndim \u001b[39m=\u001b[39m \u001b[39mlen\u001b[39m(axis) \u001b[39m+\u001b[39m a\u001b[39m.\u001b[39mndim\n\u001b[0;32m--> 597\u001b[0m axis \u001b[39m=\u001b[39m normalize_axis_tuple(axis, out_ndim)\n\u001b[1;32m    599\u001b[0m shape_it \u001b[39m=\u001b[39m \u001b[39miter\u001b[39m(a\u001b[39m.\u001b[39mshape)\n\u001b[1;32m    600\u001b[0m shape \u001b[39m=\u001b[39m [\u001b[39m1\u001b[39m \u001b[39mif\u001b[39;00m ax \u001b[39min\u001b[39;00m axis \u001b[39melse\u001b[39;00m \u001b[39mnext\u001b[39m(shape_it) \u001b[39mfor\u001b[39;00m ax \u001b[39min\u001b[39;00m \u001b[39mrange\u001b[39m(out_ndim)]\n",
      "File \u001b[0;32m~/miniconda3/envs/tf/lib/python3.9/site-packages/numpy/core/numeric.py:1398\u001b[0m, in \u001b[0;36mnormalize_axis_tuple\u001b[0;34m(axis, ndim, argname, allow_duplicate)\u001b[0m\n\u001b[1;32m   1396\u001b[0m         \u001b[39mpass\u001b[39;00m\n\u001b[1;32m   1397\u001b[0m \u001b[39m# Going via an iterator directly is slower than via list comprehension.\u001b[39;00m\n\u001b[0;32m-> 1398\u001b[0m axis \u001b[39m=\u001b[39m \u001b[39mtuple\u001b[39m([normalize_axis_index(ax, ndim, argname) \u001b[39mfor\u001b[39;00m ax \u001b[39min\u001b[39;00m axis])\n\u001b[1;32m   1399\u001b[0m \u001b[39mif\u001b[39;00m \u001b[39mnot\u001b[39;00m allow_duplicate \u001b[39mand\u001b[39;00m \u001b[39mlen\u001b[39m(\u001b[39mset\u001b[39m(axis)) \u001b[39m!=\u001b[39m \u001b[39mlen\u001b[39m(axis):\n\u001b[1;32m   1400\u001b[0m     \u001b[39mif\u001b[39;00m argname:\n",
      "File \u001b[0;32m~/miniconda3/envs/tf/lib/python3.9/site-packages/numpy/core/numeric.py:1398\u001b[0m, in \u001b[0;36m<listcomp>\u001b[0;34m(.0)\u001b[0m\n\u001b[1;32m   1396\u001b[0m         \u001b[39mpass\u001b[39;00m\n\u001b[1;32m   1397\u001b[0m \u001b[39m# Going via an iterator directly is slower than via list comprehension.\u001b[39;00m\n\u001b[0;32m-> 1398\u001b[0m axis \u001b[39m=\u001b[39m \u001b[39mtuple\u001b[39m([normalize_axis_index(ax, ndim, argname) \u001b[39mfor\u001b[39;00m ax \u001b[39min\u001b[39;00m axis])\n\u001b[1;32m   1399\u001b[0m \u001b[39mif\u001b[39;00m \u001b[39mnot\u001b[39;00m allow_duplicate \u001b[39mand\u001b[39;00m \u001b[39mlen\u001b[39m(\u001b[39mset\u001b[39m(axis)) \u001b[39m!=\u001b[39m \u001b[39mlen\u001b[39m(axis):\n\u001b[1;32m   1400\u001b[0m     \u001b[39mif\u001b[39;00m argname:\n",
      "\u001b[0;31mAxisError\u001b[0m: axis 2 is out of bounds for array of dimension 2"
     ]
    }
   ],
   "source": [
    "np.expand_dims(np.array(KEMOWORK.data[0]),2)"
   ]
  },
  {
   "cell_type": "code",
   "execution_count": 6,
   "metadata": {},
   "outputs": [],
   "source": [
    "filename = 'mts_archive/WESAD/y_4.pkl'\n",
    "\n",
    "with open(os.path.join(dir_data, filename), 'rb') as f:\n",
    "  LABEL = pickle.load(f, encoding='latin1')"
   ]
  },
  {
   "cell_type": "code",
   "execution_count": 7,
   "metadata": {},
   "outputs": [
    {
     "data": {
      "text/plain": [
       "[1.0,\n",
       " 1.0,\n",
       " 1.0,\n",
       " 1.0,\n",
       " 1.0,\n",
       " 1.0,\n",
       " 1.0,\n",
       " 1.0,\n",
       " 1.0,\n",
       " 1.0,\n",
       " 1.0,\n",
       " 1.0,\n",
       " 1.0,\n",
       " 1.0,\n",
       " 1.0,\n",
       " 1.0,\n",
       " 1.0,\n",
       " 1.0,\n",
       " 1.0,\n",
       " 1.0,\n",
       " 1.0,\n",
       " 1.0,\n",
       " 1.0,\n",
       " 1.0,\n",
       " 1.0,\n",
       " 1.0,\n",
       " 1.0,\n",
       " 1.0,\n",
       " 1.0,\n",
       " 1.0,\n",
       " 1.0,\n",
       " 1.0,\n",
       " 1.0,\n",
       " 1.0,\n",
       " 1.0,\n",
       " 1.0,\n",
       " 1.0,\n",
       " 1.0,\n",
       " 1.0,\n",
       " 3.0,\n",
       " 3.0,\n",
       " 3.0,\n",
       " 3.0,\n",
       " 3.0,\n",
       " 3.0,\n",
       " 3.0,\n",
       " 3.0,\n",
       " 3.0,\n",
       " 3.0,\n",
       " 3.0,\n",
       " 3.0,\n",
       " 2.0,\n",
       " 2.0,\n",
       " 2.0,\n",
       " 2.0,\n",
       " 2.0,\n",
       " 2.0,\n",
       " 2.0,\n",
       " 2.0,\n",
       " 2.0,\n",
       " 2.0,\n",
       " 2.0,\n",
       " 2.0,\n",
       " 2.0,\n",
       " 2.0,\n",
       " 2.0,\n",
       " 2.0,\n",
       " 2.0,\n",
       " 2.0,\n",
       " 2.0,\n",
       " 2.0,\n",
       " 2.0]"
      ]
     },
     "execution_count": 7,
     "metadata": {},
     "output_type": "execute_result"
    }
   ],
   "source": [
    "LABEL"
   ]
  },
  {
   "cell_type": "code",
   "execution_count": 118,
   "metadata": {},
   "outputs": [],
   "source": [
    "filename = 'mts_archive/WESAD/x_4_0.pkl'\n",
    "\n",
    "with open(os.path.join(dir_data, filename), 'rb') as f:\n",
    "  DATA = pickle.load(f, encoding='latin1')"
   ]
  },
  {
   "cell_type": "code",
   "execution_count": 119,
   "metadata": {},
   "outputs": [
    {
     "data": {
      "text/plain": [
       "72"
      ]
     },
     "execution_count": 119,
     "metadata": {},
     "output_type": "execute_result"
    }
   ],
   "source": [
    "len(DATA.data)"
   ]
  },
  {
   "cell_type": "code",
   "execution_count": 120,
   "metadata": {},
   "outputs": [
    {
     "data": {
      "text/plain": [
       "600"
      ]
     },
     "execution_count": 120,
     "metadata": {},
     "output_type": "execute_result"
    }
   ],
   "source": [
    "len(DATA.data[0])"
   ]
  },
  {
   "cell_type": "code",
   "execution_count": 4,
   "metadata": {},
   "outputs": [],
   "source": [
    "SUBJECTS_IDS = list(it.chain(range(2, 12), range(13, 18)))\n",
    "\n",
    "n = 15\n",
    "test_sets = [SUBJECTS_IDS[i::n] for i in range(n)]"
   ]
  },
  {
   "cell_type": "code",
   "execution_count": 5,
   "metadata": {},
   "outputs": [
    {
     "data": {
      "text/plain": [
       "[[2],\n",
       " [3],\n",
       " [4],\n",
       " [5],\n",
       " [6],\n",
       " [7],\n",
       " [8],\n",
       " [9],\n",
       " [10],\n",
       " [11],\n",
       " [13],\n",
       " [14],\n",
       " [15],\n",
       " [16],\n",
       " [17]]"
      ]
     },
     "execution_count": 5,
     "metadata": {},
     "output_type": "execute_result"
    }
   ],
   "source": [
    "test_sets"
   ]
  },
  {
   "cell_type": "code",
   "execution_count": 9,
   "metadata": {},
   "outputs": [],
   "source": [
    "result = []\n",
    "for test_set in test_sets:\n",
    "    rest = [x for x in SUBJECTS_IDS if x not in test_set]\n",
    "    val_set = random.sample(rest, math.ceil(len(rest) / 5))\n",
    "    train_set = [x for x in rest if x not in val_set]\n",
    "    result.append({\"train\": train_set, \"val\": val_set, \"test\": test_set})"
   ]
  },
  {
   "cell_type": "code",
   "execution_count": 10,
   "metadata": {},
   "outputs": [
    {
     "data": {
      "text/plain": [
       "[{'train': [3, 4, 5, 6, 7, 10, 11, 13, 14, 15, 16],\n",
       "  'val': [9, 8, 17],\n",
       "  'test': [2]},\n",
       " {'train': [2, 4, 6, 7, 9, 10, 11, 13, 14, 15, 17],\n",
       "  'val': [16, 8, 5],\n",
       "  'test': [3]},\n",
       " {'train': [2, 5, 6, 7, 8, 9, 10, 11, 15, 16, 17],\n",
       "  'val': [13, 14, 3],\n",
       "  'test': [4]},\n",
       " {'train': [2, 3, 4, 7, 9, 11, 13, 14, 15, 16, 17],\n",
       "  'val': [8, 6, 10],\n",
       "  'test': [5]},\n",
       " {'train': [2, 3, 4, 5, 7, 8, 10, 11, 13, 14, 15],\n",
       "  'val': [9, 16, 17],\n",
       "  'test': [6]},\n",
       " {'train': [2, 3, 4, 5, 6, 8, 9, 10, 14, 15, 16],\n",
       "  'val': [13, 17, 11],\n",
       "  'test': [7]},\n",
       " {'train': [2, 4, 5, 7, 9, 10, 11, 13, 14, 15, 17],\n",
       "  'val': [6, 3, 16],\n",
       "  'test': [8]},\n",
       " {'train': [2, 3, 4, 5, 8, 10, 11, 14, 15, 16, 17],\n",
       "  'val': [6, 7, 13],\n",
       "  'test': [9]},\n",
       " {'train': [3, 4, 5, 6, 7, 8, 9, 11, 13, 14, 16],\n",
       "  'val': [15, 17, 2],\n",
       "  'test': [10]},\n",
       " {'train': [2, 3, 4, 6, 7, 9, 10, 13, 14, 15, 16],\n",
       "  'val': [8, 17, 5],\n",
       "  'test': [11]},\n",
       " {'train': [2, 3, 4, 5, 6, 7, 9, 10, 14, 15, 17],\n",
       "  'val': [16, 11, 8],\n",
       "  'test': [13]},\n",
       " {'train': [2, 3, 5, 6, 7, 8, 10, 11, 13, 15, 17],\n",
       "  'val': [16, 4, 9],\n",
       "  'test': [14]},\n",
       " {'train': [3, 5, 6, 7, 8, 9, 10, 11, 13, 16, 17],\n",
       "  'val': [2, 14, 4],\n",
       "  'test': [15]},\n",
       " {'train': [3, 5, 6, 7, 8, 9, 10, 11, 13, 14, 15],\n",
       "  'val': [17, 4, 2],\n",
       "  'test': [16]},\n",
       " {'train': [2, 3, 4, 5, 7, 10, 11, 13, 14, 15, 16],\n",
       "  'val': [8, 9, 6],\n",
       "  'test': [17]}]"
      ]
     },
     "execution_count": 10,
     "metadata": {},
     "output_type": "execute_result"
    }
   ],
   "source": [
    "result"
   ]
  },
  {
   "cell_type": "code",
   "execution_count": null,
   "metadata": {},
   "outputs": [],
   "source": []
  }
 ],
 "metadata": {
  "kernelspec": {
   "display_name": "tf",
   "language": "python",
   "name": "python3"
  },
  "language_info": {
   "codemirror_mode": {
    "name": "ipython",
    "version": 3
   },
   "file_extension": ".py",
   "mimetype": "text/x-python",
   "name": "python",
   "nbconvert_exporter": "python",
   "pygments_lexer": "ipython3",
   "version": "3.9.17"
  },
  "orig_nbformat": 4
 },
 "nbformat": 4,
 "nbformat_minor": 2
}
