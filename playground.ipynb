{
 "cells": [
  {
   "cell_type": "code",
   "execution_count": 2,
   "metadata": {},
   "outputs": [],
   "source": [
    "import os\n",
    "import pickle"
   ]
  },
  {
   "cell_type": "code",
   "execution_count": 21,
   "metadata": {},
   "outputs": [],
   "source": [
    "# os.chdir('./archives')\n",
    "dir_data = os.getcwd()\n",
    "filename = 'KEmoWork/S1/S1.pkl'\n",
    "\n",
    "with open(os.path.join(dir_data, filename), 'rb') as f:\n",
    "  DATASET = pickle.load(f)"
   ]
  },
  {
   "cell_type": "code",
   "execution_count": 22,
   "metadata": {},
   "outputs": [
    {
     "data": {
      "text/plain": [
       "dict_keys(['EDA', 'EEG', 'TEMP', 'ACC', 'BVP', 'ECG'])"
      ]
     },
     "execution_count": 22,
     "metadata": {},
     "output_type": "execute_result"
    }
   ],
   "source": [
    "DATASET['signal'].keys()"
   ]
  },
  {
   "cell_type": "code",
   "execution_count": 15,
   "metadata": {},
   "outputs": [],
   "source": [
    "filename = 'WESAD/S2/S2.pkl'\n",
    "\n",
    "with open(os.path.join(dir_data, filename), 'rb') as f:\n",
    "  WESAD = pickle.load(f, encoding='latin1')"
   ]
  },
  {
   "cell_type": "code",
   "execution_count": 23,
   "metadata": {},
   "outputs": [
    {
     "data": {
      "text/plain": [
       "{'ACC': array([[ 62., -21., 107.],\n",
       "        [ 66.,  13.,  53.],\n",
       "        [ 41.,   9.,  15.],\n",
       "        ...,\n",
       "        [ 41.,  25.,  11.],\n",
       "        [ 39.,  27.,  22.],\n",
       "        [ 56.,  26.,  10.]]),\n",
       " 'BVP': array([[-59.37],\n",
       "        [-53.42],\n",
       "        [-44.4 ],\n",
       "        ...,\n",
       "        [ 18.26],\n",
       "        [ 18.68],\n",
       "        [ 19.71]]),\n",
       " 'EDA': array([[1.138257],\n",
       "        [1.125444],\n",
       "        [1.011405],\n",
       "        ...,\n",
       "        [0.059208],\n",
       "        [0.073303],\n",
       "        [0.045113]]),\n",
       " 'TEMP': array([[35.41],\n",
       "        [35.41],\n",
       "        [35.41],\n",
       "        ...,\n",
       "        [34.23],\n",
       "        [34.23],\n",
       "        [34.23]])}"
      ]
     },
     "execution_count": 23,
     "metadata": {},
     "output_type": "execute_result"
    }
   ],
   "source": [
    "WESAD['signal']['wrist']"
   ]
  },
  {
   "cell_type": "code",
   "execution_count": null,
   "metadata": {},
   "outputs": [],
   "source": []
  }
 ],
 "metadata": {
  "kernelspec": {
   "display_name": "tf",
   "language": "python",
   "name": "python3"
  },
  "language_info": {
   "codemirror_mode": {
    "name": "ipython",
    "version": 3
   },
   "file_extension": ".py",
   "mimetype": "text/x-python",
   "name": "python",
   "nbconvert_exporter": "python",
   "pygments_lexer": "ipython3",
   "version": "3.9.17"
  },
  "orig_nbformat": 4
 },
 "nbformat": 4,
 "nbformat_minor": 2
}
